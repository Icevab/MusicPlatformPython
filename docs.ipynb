{
 "cells": [
  {
   "cell_type": "markdown",
   "metadata": {},
   "source": [
    "# Docs (written bad)\n",
    "\n",
    "- commands (requests):\n",
    "    here's the requests you can use, example:\n",
    "    type - path: description\n",
    "\n",
    "    - GET - \"/\": just a test thing, nothing special\n",
    "    \n",
    "    - GET - \"/songs/{song_name}\": lets you get info about a song you want\n",
    "    \n",
    "    - GET - \"/all_songs\": returns all songs, which is located at settings.all_songs\n",
    "    \n",
    "    - POST - \"/stream_song/{song_name}\": lets you stream the song you want, but the song must be in settings.all_songs\n",
    "    \n",
    "    - GET - \"/playlist/{playlist_name}\": returns a playlist\n",
    "    \n",
    "    - GET - \"/artist/{artist_name}\": returns all songs of the artist, but the song must be in settings.all_songs\n",
    "    \n",
    "    - POST - \"/playlists/create_playlist\": lets you create a playlist, as an argument you take an instance of Playlist class, due to difference between this and settings.Playlist, it first converts it to settings.Playlist instance. then, it creates a fixed list for songs, because same as playlist, the songs you get aren't instances of settings.Song class, which breaks the app in many ways (e.g. you wouldn't be able to stream a song), it also automatically adds songs to settings.all_songs, so you can use the #stream_song on songs you got through a playlist, and also it adds new playlist to settings.playlist_list\n",
    "\n",
    "    - GET - \"/all_playlists\": returns all playlists\n",
    "\n",
    "    "
   ]
  }
 ],
 "metadata": {
  "language_info": {
   "name": "python"
  },
  "orig_nbformat": 4
 },
 "nbformat": 4,
 "nbformat_minor": 2
}
